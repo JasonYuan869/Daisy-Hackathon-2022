{
 "cells": [
  {
   "cell_type": "code",
   "execution_count": 5,
   "metadata": {
    "collapsed": true
   },
   "outputs": [],
   "source": [
    "import tensorflow as tf\n",
    "from tensorflow.keras.models import Sequential\n",
    "from tensorflow.keras.layers import LSTM, Dense, Dropout, Bidirectional\n",
    "from tensorflow.keras.callbacks import ModelCheckpoint, TensorBoard\n",
    "from sklearn import preprocessing\n",
    "from sklearn.model_selection import train_test_split\n",
    "from collections import deque\n",
    "\n",
    "import pathlib\n",
    "import numpy as np\n",
    "import pandas as pd\n",
    "import random\n",
    "\n",
    "np.random.seed(314)\n",
    "tf.random.set_seed(314)\n",
    "random.seed(314)"
   ]
  },
  {
   "cell_type": "code",
   "execution_count": 111,
   "outputs": [
    {
     "name": "stdout",
     "output_type": "stream",
     "text": [
      "            negative_count  negative_avg  positive_count  positive_avg  \\\n",
      "date                                                                     \n",
      "2020-01-24    1.157327e+05      0.405452    12932.666667      0.045402   \n",
      "2020-01-25    2.362353e+05      0.453745    23761.333333      0.043395   \n",
      "2020-01-26    3.663233e+05      0.431332    31814.000000      0.040433   \n",
      "2020-01-27    4.390923e+05      0.463175    30329.666667      0.032458   \n",
      "2020-01-28    4.215193e+05      0.456303    31781.666667      0.035839   \n",
      "...                    ...           ...             ...           ...   \n",
      "2020-12-27    9.427477e+05      0.459835   242130.000000      0.126867   \n",
      "2020-12-28    1.141295e+06      0.477485   241240.000000      0.105030   \n",
      "2020-12-29    1.289657e+06      0.474366   261259.666667      0.098268   \n",
      "2020-12-30    1.413140e+06      0.460078   280056.666667      0.092313   \n",
      "2020-12-31    1.448581e+06      0.454409   319876.666667      0.100642   \n",
      "\n",
      "            neutral_count  neutral_avg      new_cases  \n",
      "date                                                   \n",
      "2020-01-24   1.408377e+05     0.549146       1.000000  \n",
      "2020-01-25   2.827583e+05     0.502859       1.333333  \n",
      "2020-01-26   4.559667e+05     0.528234       2.666667  \n",
      "2020-01-27   4.855487e+05     0.504366       2.000000  \n",
      "2020-01-28   4.716380e+05     0.507858       3.333333  \n",
      "...                   ...          ...            ...  \n",
      "2020-12-27   8.155137e+05     0.413297  329739.666667  \n",
      "2020-12-28   9.805233e+05     0.417484  345940.666667  \n",
      "2020-12-29   1.161360e+06     0.427366  382371.333333  \n",
      "2020-12-30   1.369949e+06     0.447609  459722.000000  \n",
      "2020-12-31   1.415007e+06     0.444949  528913.666667  \n",
      "\n",
      "[343 rows x 7 columns]\n"
     ]
    }
   ],
   "source": [
    "SENTIMENT_DATA = pathlib.Path('../data/Sent_by_day.csv')\n",
    "COVID_DATA = pathlib.Path('../data/owid-covid-data.csv')\n",
    "def data_processing():\n",
    "    sentiment_data = pd.read_csv(SENTIMENT_DATA, index_col=0, parse_dates=[['Year', 'Month', 'Day']])\n",
    "    sentiment_data.index.rename('date', inplace=True)\n",
    "    sentiment_data.drop(['Unnamed: 0'], axis=1, inplace=True)\n",
    "    negative_data = sentiment_data[sentiment_data['Sentiment'] == 'negative']\n",
    "    positive_data = sentiment_data[sentiment_data['Sentiment'] == 'positive']\n",
    "    neutral_data = sentiment_data[sentiment_data['Sentiment'] == 'neutral']\n",
    "    sentiment_data = pd.concat([negative_data, positive_data, neutral_data], axis=1, join=\"inner\")\n",
    "    sentiment_data = sentiment_data.drop(['Sentiment'], axis=1)\n",
    "    sentiment_data.columns = ['negative_count', 'negative_avg', 'positive_count', 'positive_avg', 'neutral_count', 'neutral_avg']\n",
    "    sentiment_data = sentiment_data.groupby(['date']).sum().rolling(3).mean()\n",
    "    sentiment_data = sentiment_data.dropna()\n",
    "\n",
    "    daily_data = pd.read_csv(COVID_DATA, index_col=3, parse_dates=['date'])\n",
    "    daily_data = daily_data[daily_data.continent.isin(['Europe', 'North America'])]\n",
    "    daily_data = daily_data['new_cases'].groupby(daily_data.index).sum().rolling(3).mean()\n",
    "    daily_data = daily_data[daily_data.index >= pd.to_datetime('2020-01-24')]\n",
    "    daily_data = daily_data[daily_data.index <= pd.to_datetime('2020-12-31')]\n",
    "\n",
    "    return (sentiment_data, daily_data)\n",
    "\n",
    "data = pd.concat(data_processing(), axis=1)\n",
    "data.to_csv('../data/processed_data.csv')\n",
    "print(data)\n"
   ],
   "metadata": {
    "collapsed": false,
    "pycharm": {
     "name": "#%%\n"
    }
   }
  }
 ],
 "metadata": {
  "kernelspec": {
   "display_name": "Python 3",
   "language": "python",
   "name": "python3"
  },
  "language_info": {
   "codemirror_mode": {
    "name": "ipython",
    "version": 2
   },
   "file_extension": ".py",
   "mimetype": "text/x-python",
   "name": "python",
   "nbconvert_exporter": "python",
   "pygments_lexer": "ipython2",
   "version": "2.7.6"
  }
 },
 "nbformat": 4,
 "nbformat_minor": 0
}